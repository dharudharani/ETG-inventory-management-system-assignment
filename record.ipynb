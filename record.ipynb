{
  "nbformat": 4,
  "nbformat_minor": 0,
  "metadata": {
    "colab": {
      "name": "record.ipynb",
      "provenance": [],
      "collapsed_sections": []
    },
    "kernelspec": {
      "name": "python3",
      "display_name": "Python 3"
    },
    "language_info": {
      "name": "python"
    }
  },
  "cells": [
    {
      "cell_type": "code",
      "metadata": {
        "id": "gr1HKvRbEo5o"
      },
      "source": [
        "record={30001 : {\"name\":\"perk\",\"price\":59,\"quantity\":11,\"discount\":\"10%\" ,\"expirydate\":\"9 months\"},\n",
        "        30002: {\"name\":\"motherdiary\",\"price\":58,\"quantity\":14,\"discount\":\"20%\" ,\"expirydate\":\"6 months\"},\n",
        "        30003: {\"name\":\"kitkat\",\"price\":20,\"quantity\":19,\"discount\":\"15%\" ,\"expirydate\":\"10 months\"},\n",
        "        30004 : {\"name\":\"diarymilk\",\"price\":100,\"quantity\":12,\"discount\":\"10%\",\"expirydate\":\"9months\"},\n",
        "        30005 : {\"name\":\"coco-cola\",\"price\":70,\"quantity\":10,\"discount\":\"56%\",\"expirydate\":\"6-9 months\"},\n",
        "        30006 : {\"name\":\"spirit\", \"price\":65,\"quantity\":17,\"discount\":\"10%\" ,\"expirydate\":\"6 months\"},                \n",
        "        30007 : {\"name\":\"Kwality Wall's\",\"price\":78,\"quantity\":10,\"discount\":\"5%\" ,\"expirydate\":\"365days\"},\n",
        "        30008 : {\"name\":\"kissan jam\",\"price\":169,\"quantity\":30,\"discount\":\"21%\" ,\"expirydate\":\"12 months\"},\n",
        "        30009 : {\"name\":\"amul butter\",\"price\":92,\"quantity\":40,\"discount\":\"10%\",\"expirydate\":\"12 months\"},\n",
        "        30010 : {\"name\":\"bourn vita\",\"price\":264,\"quantity\":80,\"discount\":\"25%\" ,\"expirydate\":\"12 months\"},\n",
        "        30011 : {\"name\":\"snickers\",\"price\":50,\"quantity\":12,\"discount\":\"20%\" ,\"expirydate\":\"12 months\"},\n",
        "        30012 : {\"name\":\"cadbury 5star\",\"price\":17,\"quantity\":60,\"discount\":\"15%\",\"expirydate\":\"270 days\"},\n",
        "        30013 : {\"name\":\"milkybar\",\"price\":45,\"quantity\":40,\"discount\":\"0%\" ,\"expirydate\":\"11 months\"},\n",
        "        30014 : {\"name\":\"galaxy\",\"price\":50,\"quantity\":80,\"discount\":\"15%\" ,\"expirydate\":\"4 months\"},\n",
        "        30015 : {\"name\":\"kurkure\",\"price\":20,\"quantity\":50,\"discount\":\"0%\" ,\"expirydate\":\"18-24 months\"},\n",
        "        30016 : {\"name\":\"bingo\",\"price\":18,\"quantity\":8,\"discount\":\"20%\" ,\"expirydate\":\"4 months\"},\n",
        "        30017 : {\"name\":\"maggi\",\"price\":43,\"quantity\":4,\"discount\":\"10%\" ,\"expirydate\":\"9 months\"},\n",
        "        30018 : {\"name\":\"Sunfeast moms magic\",\"price\":91,\"quantity\":24,\"discount\":\"24%\" ,\"expirydate\":\"6 months\"},\n",
        "        30019 : {\"name\":\"little hearts\",\"price\":20,\"quantity\":18,\"discount\":\"20%\" ,\"expirydate\":\"6 months\"},\n",
        "        30020 : {\"name\":\"Gems\",\"price\":10,\"quantity\":13,\"discount\":\"0%\" ,\"expirydate\":\"12 months\"},\n",
        "        30021 : {\"name\":\"boost\",\"price\":302,\"quantity\":45,\"discount\":\"14%\" ,\"expirydate\":\"12 months\"},\n",
        "        30022 : {\"name\":\"Amul Kaju Katri\",\"price\":175,\"quantity\":10,\"discount\":\"10%\" ,\"expirydate\":\"3 months\"},\n",
        "        30023 : {\"name\":\"MTR Rava Idli\",\"price\":143,\"quantity\":75,\"discount\":\"33%\" ,\"expirydate\":\"12 months\"},\n",
        "        30024 : {\"name\":\"Aashirvaad Atta\",\"price\":246,\"quantity\":34,\"discount\":\"21%\" ,\"expirydate\":\"3 months\"},\n",
        "        30025 : {\"name\":\"Saffola Honey\",\"price\":280,\"quantity\":15,\"discount\":\"41%\" ,\"expirydate\":\"5 months\"},\n",
        "        30026 : {\"name\":\"Telugu Pickle\",\"price\":10,\"quantity\":16,\"discount\":\"0%\" ,\"expirydate\":\"12months\"},\n",
        "        30027 : {\"name\":\"lays\",\"price\":20,\"quantity\":10,\"discount\":\"5%\" ,\"expirydate\":\"2-3weeks\" },\n",
        "        30028 : {\"name\":\"thumbup\",\"price\":80,\"quantity\":19,\"discount\":\"15%\",\"expirydate\":\"3 months\" } , \n",
        "        30029 : {\"name\":\"pepsi\", \"price\":150,\"quantity\":18,\"discount\":\"5%\",\"expirydate\":\"6-9 months\"},\n",
        "        30030 : {\"name\":\"parle-G\",\"price\":70,\"quantity\":13,\"discount\":\"5%\" ,\"expirydate\":\"6 months\"},\n",
        "        }"
      ],
      "execution_count": 10,
      "outputs": []
    },
    {
      "cell_type": "code",
      "metadata": {
        "colab": {
          "base_uri": "https://localhost:8080/"
        },
        "id": "OzOk7vG2dq9V",
        "outputId": "80b619c7-6eaf-49f2-945d-0666327bd58e"
      },
      "source": [
        "record.keys( )\n"
      ],
      "execution_count": 11,
      "outputs": [
        {
          "output_type": "execute_result",
          "data": {
            "text/plain": [
              "dict_keys([30001, 30002, 30003, 30004, 30005, 30006, 30007, 30008, 30009, 30010, 30011, 30012, 30013, 30014, 30015, 30016, 30017, 30018, 30019, 30020, 30021, 30022, 30023, 30024, 30025, 30026, 30027, 30028, 30029, 30030])"
            ]
          },
          "metadata": {},
          "execution_count": 11
        }
      ]
    },
    {
      "cell_type": "code",
      "metadata": {
        "colab": {
          "base_uri": "https://localhost:8080/"
        },
        "id": "grJMciIfdq_h",
        "outputId": "a914ffa3-978a-43a5-a2d6-0e08f70ecb16"
      },
      "source": [
        "len(record)"
      ],
      "execution_count": 12,
      "outputs": [
        {
          "output_type": "execute_result",
          "data": {
            "text/plain": [
              "30"
            ]
          },
          "metadata": {},
          "execution_count": 12
        }
      ]
    },
    {
      "cell_type": "code",
      "metadata": {
        "colab": {
          "base_uri": "https://localhost:8080/"
        },
        "id": "Lxm3ZzkUdrCl",
        "outputId": "55b27af9-381d-4b97-b0a3-8a6369fdc15b"
      },
      "source": [
        "id=30011\n",
        "print(record[id]['name'])\n",
        "print(record[id]['price'])\n",
        "print(record[id]['quantity'])\n",
        "print(record[id]['discount'])\n",
        "print(record[id]['expirydate'])"
      ],
      "execution_count": 13,
      "outputs": [
        {
          "output_type": "stream",
          "name": "stdout",
          "text": [
            "snickers\n",
            "50\n",
            "12\n",
            "20%\n",
            "12 months\n"
          ]
        }
      ]
    },
    {
      "cell_type": "code",
      "metadata": {
        "id": "Hcdgkv0QdrEd"
      },
      "source": [
        "import json"
      ],
      "execution_count": 14,
      "outputs": []
    },
    {
      "cell_type": "code",
      "metadata": {
        "id": "kCw48KOwdrH3"
      },
      "source": [
        "js = json.dumps(record)"
      ],
      "execution_count": 16,
      "outputs": []
    },
    {
      "cell_type": "code",
      "metadata": {
        "id": "XhvKXxeAdrJl"
      },
      "source": [
        "js"
      ],
      "execution_count": null,
      "outputs": []
    },
    {
      "cell_type": "code",
      "metadata": {
        "id": "qBUnDizJdrNg"
      },
      "source": [
        "record"
      ],
      "execution_count": null,
      "outputs": []
    },
    {
      "cell_type": "code",
      "metadata": {
        "colab": {
          "base_uri": "https://localhost:8080/"
        },
        "id": "_u9bztF-drOw",
        "outputId": "f97fde00-8327-4141-8ceb-4b87d39a909c"
      },
      "source": [
        "type(record)"
      ],
      "execution_count": 19,
      "outputs": [
        {
          "output_type": "execute_result",
          "data": {
            "text/plain": [
              "dict"
            ]
          },
          "metadata": {},
          "execution_count": 19
        }
      ]
    },
    {
      "cell_type": "code",
      "metadata": {
        "id": "q27JaXt8drTB"
      },
      "source": [
        "fd=open(\"record.json\",'w')\n",
        "\n",
        "fd.write(js)\n",
        "\n",
        "fd.close()"
      ],
      "execution_count": 20,
      "outputs": []
    },
    {
      "cell_type": "code",
      "metadata": {
        "id": "X92jQn6udrUi"
      },
      "source": [
        "fd=open(\"record.json\",'r')\n",
        "\n",
        "txt=fd.read()\n",
        "\n",
        "fd.close()"
      ],
      "execution_count": 22,
      "outputs": []
    },
    {
      "cell_type": "code",
      "metadata": {
        "id": "Eh1viIgnfVop"
      },
      "source": [
        "record=json.loads(txt)"
      ],
      "execution_count": 23,
      "outputs": []
    },
    {
      "cell_type": "code",
      "metadata": {
        "id": "8krrxh9UfVqA"
      },
      "source": [
        "record['30015']"
      ],
      "execution_count": null,
      "outputs": []
    },
    {
      "cell_type": "code",
      "metadata": {
        "colab": {
          "base_uri": "https://localhost:8080/"
        },
        "id": "6mq4AXwFfna3",
        "outputId": "8f8d4ebd-2f24-4428-f5d6-a9f6300885c5"
      },
      "source": [
        "record.values()"
      ],
      "execution_count": 25,
      "outputs": [
        {
          "output_type": "execute_result",
          "data": {
            "text/plain": [
              "dict_values([{'name': 'perk', 'price': 59, 'quantity': 11, 'discount': '10%', 'expirydate': '9 months'}, {'name': 'motherdiary', 'price': 58, 'quantity': 14, 'discount': '20%', 'expirydate': '6 months'}, {'name': 'kitkat', 'price': 20, 'quantity': 19, 'discount': '15%', 'expirydate': '10 months'}, {'name': 'diarymilk', 'price': 100, 'quantity': 12, 'discount': '10%', 'expirydate': '9months'}, {'name': 'coco-cola', 'price': 70, 'quantity': 10, 'discount': '56%', 'expirydate': '6-9 months'}, {'name': 'spirit', 'price': 65, 'quantity': 17, 'discount': '10%', 'expirydate': '6 months'}, {'name': \"Kwality Wall's\", 'price': 78, 'quantity': 10, 'discount': '5%', 'expirydate': '365days'}, {'name': 'kissan jam', 'price': 169, 'quantity': 30, 'discount': '21%', 'expirydate': '12 months'}, {'name': 'amul butter', 'price': 92, 'quantity': 40, 'discount': '10%', 'expirydate': '12 months'}, {'name': 'bourn vita', 'price': 264, 'quantity': 80, 'discount': '25%', 'expirydate': '12 months'}, {'name': 'snickers', 'price': 50, 'quantity': 12, 'discount': '20%', 'expirydate': '12 months'}, {'name': 'cadbury 5star', 'price': 17, 'quantity': 60, 'discount': '15%', 'expirydate': '270 days'}, {'name': 'milkybar', 'price': 45, 'quantity': 40, 'discount': '0%', 'expirydate': '11 months'}, {'name': 'galaxy', 'price': 50, 'quantity': 80, 'discount': '15%', 'expirydate': '4 months'}, {'name': 'kurkure', 'price': 20, 'quantity': 50, 'discount': '0%', 'expirydate': '18-24 months'}, {'name': 'bingo', 'price': 18, 'quantity': 8, 'discount': '20%', 'expirydate': '4 months'}, {'name': 'maggi', 'price': 43, 'quantity': 4, 'discount': '10%', 'expirydate': '9 months'}, {'name': 'Sunfeast moms magic', 'price': 91, 'quantity': 24, 'discount': '24%', 'expirydate': '6 months'}, {'name': 'little hearts', 'price': 20, 'quantity': 18, 'discount': '20%', 'expirydate': '6 months'}, {'name': 'Gems', 'price': 10, 'quantity': 13, 'discount': '0%', 'expirydate': '12 months'}, {'name': 'boost', 'price': 302, 'quantity': 45, 'discount': '14%', 'expirydate': '12 months'}, {'name': 'Amul Kaju Katri', 'price': 175, 'quantity': 10, 'discount': '10%', 'expirydate': '3 months'}, {'name': 'MTR Rava Idli', 'price': 143, 'quantity': 75, 'discount': '33%', 'expirydate': '12 months'}, {'name': 'Aashirvaad Atta', 'price': 246, 'quantity': 34, 'discount': '21%', 'expirydate': '3 months'}, {'name': 'Saffola Honey', 'price': 280, 'quantity': 15, 'discount': '41%', 'expirydate': '5 months'}, {'name': 'Telugu Pickle', 'price': 10, 'quantity': 16, 'discount': '0%', 'expirydate': '12months'}, {'name': 'lays', 'price': 20, 'quantity': 10, 'discount': '5%', 'expirydate': '2-3weeks'}, {'name': 'thumbup', 'price': 80, 'quantity': 19, 'discount': '15%', 'expirydate': '3 months'}, {'name': 'pepsi', 'price': 150, 'quantity': 18, 'discount': '5%', 'expirydate': '6-9 months'}, {'name': 'parle-G', 'price': 70, 'quantity': 13, 'discount': '5%', 'expirydate': '6 months'}])"
            ]
          },
          "metadata": {},
          "execution_count": 25
        }
      ]
    }
  ]
}