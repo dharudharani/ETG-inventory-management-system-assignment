{
  "nbformat": 4,
  "nbformat_minor": 0,
  "metadata": {
    "colab": {
      "name": "purchasing inventory.ipynb",
      "provenance": []
    },
    "kernelspec": {
      "name": "python3",
      "display_name": "Python 3"
    },
    "language_info": {
      "name": "python"
    }
  },
  "cells": [
    {
      "cell_type": "markdown",
      "metadata": {
        "id": "bE26-tfco5aa"
      },
      "source": [
        "## **Read Inventory**"
      ]
    },
    {
      "cell_type": "code",
      "metadata": {
        "id": "-Gz_OP7io4wb"
      },
      "source": [
        "import json\n",
        "\n",
        "fd = open(\"record.json\",'r')\n",
        "r = fd.read()\n",
        "fd.close()\n",
        "\n",
        "record= json.loads(r)"
      ],
      "execution_count": 3,
      "outputs": []
    },
    {
      "cell_type": "code",
      "metadata": {
        "colab": {
          "base_uri": "https://localhost:8080/"
        },
        "id": "xGa0QRaDpAo4",
        "outputId": "94cae90f-1656-4848-db33-071413fd21bd"
      },
      "source": [
        "record"
      ],
      "execution_count": 4,
      "outputs": [
        {
          "output_type": "execute_result",
          "data": {
            "text/plain": [
              "{'30001': {'discount': '10%',\n",
              "  'expirydate': '9 months',\n",
              "  'name': 'perk',\n",
              "  'price': 59,\n",
              "  'quantity': 11},\n",
              " '30002': {'discount': '20%',\n",
              "  'expirydate': '6 months',\n",
              "  'name': 'motherdiary',\n",
              "  'price': 58,\n",
              "  'quantity': 14},\n",
              " '30003': {'discount': '15%',\n",
              "  'expirydate': '10 months',\n",
              "  'name': 'kitkat',\n",
              "  'price': 20,\n",
              "  'quantity': 19},\n",
              " '30004': {'discount': '10%',\n",
              "  'expirydate': '9months',\n",
              "  'name': 'diarymilk',\n",
              "  'price': 100,\n",
              "  'quantity': 12},\n",
              " '30005': {'discount': '56%',\n",
              "  'expirydate': '6-9 months',\n",
              "  'name': 'coco-cola',\n",
              "  'price': 70,\n",
              "  'quantity': 10},\n",
              " '30006': {'discount': '10%',\n",
              "  'expirydate': '6 months',\n",
              "  'name': 'spirit',\n",
              "  'price': 65,\n",
              "  'quantity': 17},\n",
              " '30007': {'discount': '5%',\n",
              "  'expirydate': '365days',\n",
              "  'name': \"Kwality Wall's\",\n",
              "  'price': 78,\n",
              "  'quantity': 10},\n",
              " '30008': {'discount': '21%',\n",
              "  'expirydate': '12 months',\n",
              "  'name': 'kissan jam',\n",
              "  'price': 169,\n",
              "  'quantity': 30},\n",
              " '30009': {'discount': '10%',\n",
              "  'expirydate': '12 months',\n",
              "  'name': 'amul butter',\n",
              "  'price': 92,\n",
              "  'quantity': 40},\n",
              " '30010': {'discount': '25%',\n",
              "  'expirydate': '12 months',\n",
              "  'name': 'bourn vita',\n",
              "  'price': 264,\n",
              "  'quantity': 80},\n",
              " '30011': {'discount': '20%',\n",
              "  'expirydate': '12 months',\n",
              "  'name': 'snickers',\n",
              "  'price': 50,\n",
              "  'quantity': 12},\n",
              " '30012': {'discount': '15%',\n",
              "  'expirydate': '270 days',\n",
              "  'name': 'cadbury 5star',\n",
              "  'price': 17,\n",
              "  'quantity': 60},\n",
              " '30013': {'discount': '0%',\n",
              "  'expirydate': '11 months',\n",
              "  'name': 'milkybar',\n",
              "  'price': 45,\n",
              "  'quantity': 40},\n",
              " '30014': {'discount': '15%',\n",
              "  'expirydate': '4 months',\n",
              "  'name': 'galaxy',\n",
              "  'price': 50,\n",
              "  'quantity': 80},\n",
              " '30015': {'discount': '0%',\n",
              "  'expirydate': '18-24 months',\n",
              "  'name': 'kurkure',\n",
              "  'price': 20,\n",
              "  'quantity': 50},\n",
              " '30016': {'discount': '20%',\n",
              "  'expirydate': '4 months',\n",
              "  'name': 'bingo',\n",
              "  'price': 18,\n",
              "  'quantity': 8},\n",
              " '30017': {'discount': '10%',\n",
              "  'expirydate': '9 months',\n",
              "  'name': 'maggi',\n",
              "  'price': 43,\n",
              "  'quantity': 4},\n",
              " '30018': {'discount': '24%',\n",
              "  'expirydate': '6 months',\n",
              "  'name': 'Sunfeast moms magic',\n",
              "  'price': 91,\n",
              "  'quantity': 24},\n",
              " '30019': {'discount': '20%',\n",
              "  'expirydate': '6 months',\n",
              "  'name': 'little hearts',\n",
              "  'price': 20,\n",
              "  'quantity': 18},\n",
              " '30020': {'discount': '0%',\n",
              "  'expirydate': '12 months',\n",
              "  'name': 'Gems',\n",
              "  'price': 10,\n",
              "  'quantity': 13},\n",
              " '30021': {'discount': '14%',\n",
              "  'expirydate': '12 months',\n",
              "  'name': 'boost',\n",
              "  'price': 302,\n",
              "  'quantity': 45},\n",
              " '30022': {'discount': '10%',\n",
              "  'expirydate': '3 months',\n",
              "  'name': 'Amul Kaju Katri',\n",
              "  'price': 175,\n",
              "  'quantity': 10},\n",
              " '30023': {'discount': '33%',\n",
              "  'expirydate': '12 months',\n",
              "  'name': 'MTR Rava Idli',\n",
              "  'price': 143,\n",
              "  'quantity': 75},\n",
              " '30024': {'discount': '21%',\n",
              "  'expirydate': '3 months',\n",
              "  'name': 'Aashirvaad Atta',\n",
              "  'price': 246,\n",
              "  'quantity': 34},\n",
              " '30025': {'discount': '41%',\n",
              "  'expirydate': '5 months',\n",
              "  'name': 'Saffola Honey',\n",
              "  'price': 280,\n",
              "  'quantity': 15},\n",
              " '30026': {'discount': '0%',\n",
              "  'expirydate': '12months',\n",
              "  'name': 'Telugu Pickle',\n",
              "  'price': 10,\n",
              "  'quantity': 16},\n",
              " '30027': {'discount': '5%',\n",
              "  'expirydate': '2-3weeks',\n",
              "  'name': 'lays',\n",
              "  'price': 20,\n",
              "  'quantity': 10},\n",
              " '30028': {'discount': '15%',\n",
              "  'expirydate': '3 months',\n",
              "  'name': 'thumbup',\n",
              "  'price': 80,\n",
              "  'quantity': 19},\n",
              " '30029': {'discount': '5%',\n",
              "  'expirydate': '6-9 months',\n",
              "  'name': 'pepsi',\n",
              "  'price': 150,\n",
              "  'quantity': 18},\n",
              " '30030': {'discount': '5%',\n",
              "  'expirydate': '6 months',\n",
              "  'name': 'parle-G',\n",
              "  'price': 70,\n",
              "  'quantity': 13},\n",
              " '30031': {'discount': '5%',\n",
              "  'expirydate': '1month',\n",
              "  'name': 'Britannia 50-50 ',\n",
              "  'price': 24,\n",
              "  'quantity': 5},\n",
              " '30032': {'discount': '10%',\n",
              "  'expirydate': '1month',\n",
              "  'name': 'Jim Jam Biscuits',\n",
              "  'price': 90,\n",
              "  'quantity': 5},\n",
              " '30033': {'discount': '20%',\n",
              "  'expirydate': '2months',\n",
              "  'name': 'Sunfeast Dark Fantasy Cookies',\n",
              "  'price': 98,\n",
              "  'quantity': 4}}"
            ]
          },
          "metadata": {},
          "execution_count": 4
        }
      ]
    },
    {
      "cell_type": "markdown",
      "metadata": {
        "id": "WLiVfc_1pZHZ"
      },
      "source": [
        "### purchase"
      ]
    },
    {
      "cell_type": "code",
      "metadata": {
        "colab": {
          "base_uri": "https://localhost:8080/"
        },
        "id": "adZCSsaxpArp",
        "outputId": "8f52efb0-6c89-4667-993b-8159791659d2"
      },
      "source": [
        "ui_prod  = str(input(\"Enter the product_Id: \"))\n",
        "ui_quant = int(input(\"Enter the quantity: \"))\n",
        "\n",
        "\n",
        "print(\"******************************\")\n",
        "print(\"------------------------------\")\n",
        "print(\"Product ID: \", ui_prod)\n",
        "print(\"Product: \", product[ui_prod]['name'])\n",
        "print(\"Price: \", product[ui_prod]['price'])\n",
        "print(\"discount:\",product[ui_prod]['discount'])\n",
        "print(\"Billing Amount: \", product[ui_prod]['price'] * ui_quant)\n",
        "\n",
        "bill = int(input(\"Enter bill amount:\"))\n",
        "discount = int(input(\"Enter discount percentage:\"))\n",
        "output = bill - (bill * discount / 100)\n",
        "print(\"After discount your bill is: \", output)\n",
        "print(\"******************************\")\n",
        "print(\"------------------------------\")\n",
        "product[ui_prod]['quantity'] = product[ui_prod]['quantity'] - ui_quant"
      ],
      "execution_count": 6,
      "outputs": [
        {
          "output_type": "stream",
          "name": "stdout",
          "text": [
            "Enter the product_Id: 30001\n",
            "Enter the quantity: 5\n",
            "******************************\n",
            "------------------------------\n",
            "Product ID:  30001\n",
            "Product:  perk\n",
            "Price:  59\n",
            "discount: 10%\n",
            "Billing Amount:  295\n",
            "Enter bill amount:295\n",
            "Enter discount percentage:10\n",
            "After discount your bill is:  265.5\n",
            "******************************\n",
            "------------------------------\n"
          ]
        }
      ]
    },
    {
      "cell_type": "markdown",
      "metadata": {
        "id": "pH_cTGCUp74B"
      },
      "source": [
        "### **Update Inventory after purchase**"
      ]
    },
    {
      "cell_type": "code",
      "metadata": {
        "id": "yEngJ_utpAuX"
      },
      "source": [
        "js = json.dumps(product)\n",
        "\n",
        "fd = open(\"product.json\",'w')\n",
        "fd.write(js)\n",
        "fd.close()\n"
      ],
      "execution_count": 7,
      "outputs": []
    },
    {
      "cell_type": "markdown",
      "metadata": {
        "id": "CZK7NwjmqJqB"
      },
      "source": [
        "## ***sales json***"
      ]
    },
    {
      "cell_type": "code",
      "metadata": {
        "id": "Uw5K5EiKpAvw"
      },
      "source": [
        "sales={1001:{'prod':ui_prod,'qn':ui_quant,'amount':product[ui_prod]['price'] * ui_quant},\n",
        "       1002:{'prod':ui_prod,'qn':ui_quant,'amount':product[ui_prod]['price'] * ui_quant},\n",
        "       1003:{'prod':ui_prod,'qn':ui_quant,'amount':product[ui_prod]['price'] * ui_quant},\n",
        "       1004:{'prod':ui_prod,'qn':ui_quant,'amount':product[ui_prod]['price'] * ui_quant},\n",
        "       }"
      ],
      "execution_count": 8,
      "outputs": []
    },
    {
      "cell_type": "code",
      "metadata": {
        "colab": {
          "base_uri": "https://localhost:8080/",
          "height": 52
        },
        "id": "2G9nZXNZpAzj",
        "outputId": "4b9609e7-855c-4f35-b55c-de5bbc090016"
      },
      "source": [
        "json.dumps(sales)"
      ],
      "execution_count": 9,
      "outputs": [
        {
          "output_type": "execute_result",
          "data": {
            "application/vnd.google.colaboratory.intrinsic+json": {
              "type": "string"
            },
            "text/plain": [
              "'{\"1001\": {\"prod\": \"30001\", \"qn\": 5, \"amount\": 295}, \"1002\": {\"prod\": \"30001\", \"qn\": 5, \"amount\": 295}, \"1003\": {\"prod\": \"30001\", \"qn\": 5, \"amount\": 295}, \"1004\": {\"prod\": \"30001\", \"qn\": 5, \"amount\": 295}}'"
            ]
          },
          "metadata": {},
          "execution_count": 9
        }
      ]
    },
    {
      "cell_type": "code",
      "metadata": {
        "id": "uN3WFKM1pA11"
      },
      "source": [
        "fd=open(\"sales.json\",'w')\n",
        "\n",
        "fd.write(js)\n",
        "\n",
        "fd.close()"
      ],
      "execution_count": 12,
      "outputs": []
    },
    {
      "cell_type": "code",
      "metadata": {
        "id": "cePCXSsppA4p"
      },
      "source": [
        "sales=json.dumps(sales)"
      ],
      "execution_count": 13,
      "outputs": []
    }
  ]
}